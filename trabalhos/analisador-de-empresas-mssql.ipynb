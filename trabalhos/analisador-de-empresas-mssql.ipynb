{
 "cells": [
  {
   "cell_type": "markdown",
   "metadata": {},
   "source": [
    "# Analisador de empresas listadas no Guia Fácil"
   ]
  },
  {
   "cell_type": "markdown",
   "metadata": {},
   "source": [
    "Tem como objetivo extrair informações relacionadas as empresas de uma determinada região e sua classificação no Google Meu Negócio, se houver."
   ]
  },
  {
   "cell_type": "markdown",
   "execution_count": 68,
   "metadata": {},
   "outputs": [],
   "source": [
    "```sql\n",
    "CREATE TABLE empresa (\n",
    "    id              VARCHAR(36)   NOT NULL,\n",
    "    nome            VARCHAR(255)  NOT NULL,\n",
    "    atividade       VARCHAR(255),\n",
    "    pessoaJuridica  BIT,\n",
    "    emailCliente    VARCHAR(255),\n",
    "    cep             VARCHAR(20) ,\n",
    "    cidade          VARCHAR(255),\n",
    "    estado          VARCHAR(255),\n",
    "    bairro          VARCHAR(255),\n",
    "    uf              VARCHAR(5)  ,\n",
    "    avaliacaoGoogle VARCHAR(255),\n",
    "    PRIMARY KEY (id)\n",
    ");\n",
    "\n",
    "CREATE TABLE empresa_telefone (\n",
    "    id                VARCHAR(36) NOT NULL,\n",
    "    id_empresa        VARCHAR(36) NOT NULL,\n",
    "    ddd               VARCHAR(5),\n",
    "    telefone          VARCHAR(50) NOT NULL,\n",
    "    telefoneCompleto  VARCHAR(100),\n",
    "    whatsapp          BIT,\n",
    "    telefone0800      BIT,\n",
    "    PRIMARY KEY (id)\n",
    ");\n",
    "\n",
    "CREATE TABLE empresa_endereco (\n",
    "    id         VARCHAR(36)  NOT NULL,\n",
    "    id_empresa VARCHAR(36)  NOT NULL,\n",
    "    endereco   VARCHAR(255) NOT NULL,\n",
    "    PRIMARY KEY (id)\n",
    ");\n",
    "```"
   ]
  },
  {
   "cell_type": "code",
   "execution_count": 118,
   "metadata": {},
   "outputs": [
    {
     "name": "stdout",
     "output_type": "stream",
     "text": "Requirement already satisfied: requests in c:\\programdata\\anaconda3\\lib\\site-packages (2.22.0)\nRequirement already satisfied: idna<2.9,>=2.5 in c:\\programdata\\anaconda3\\lib\\site-packages (from requests) (2.8)\nRequirement already satisfied: chardet<3.1.0,>=3.0.2 in c:\\programdata\\anaconda3\\lib\\site-packages (from requests) (3.0.4)\nRequirement already satisfied: urllib3!=1.25.0,!=1.25.1,<1.26,>=1.21.1 in c:\\programdata\\anaconda3\\lib\\site-packages (from requests) (1.24.2)\nRequirement already satisfied: certifi>=2017.4.17 in c:\\programdata\\anaconda3\\lib\\site-packages (from requests) (2019.9.11)\n"
    }
   ],
   "source": [
    "!pip install requests"
   ]
  },
  {
   "cell_type": "code",
   "execution_count": 119,
   "metadata": {},
   "outputs": [
    {
     "name": "stdout",
     "output_type": "stream",
     "text": "Requirement already satisfied: selenium in c:\\programdata\\anaconda3\\lib\\site-packages (3.141.0)\nRequirement already satisfied: urllib3 in c:\\programdata\\anaconda3\\lib\\site-packages (from selenium) (1.24.2)\nRequirement already satisfied: chromedriver-binary in c:\\programdata\\anaconda3\\lib\\site-packages (79.0.3945.36.0)\nRequirement already satisfied: pymssql<3.0 in c:\\programdata\\anaconda3\\lib\\site-packages (2.1.4)\n"
    }
   ],
   "source": [
    "!pip install selenium\n",
    "!pip install chromedriver-binary\n",
    "!pip install \"pymssql<3.0\""
   ]
  },
  {
   "cell_type": "code",
   "execution_count": 120,
   "metadata": {},
   "outputs": [],
   "source": [
    "DEBUG = True\n",
    "\n",
    "def LOG(funcao, mensagem, pulaLinhaAntes = False, pulaLinhaDepois = False):\n",
    "    if DEBUG == True:\n",
    "        if pulaLinhaAntes:\n",
    "            print('\\n');\n",
    "        print('[{}] => {}'.format(funcao, mensagem))\n",
    "        if pulaLinhaDepois:\n",
    "            print('\\n');"
   ]
  },
  {
   "cell_type": "code",
   "execution_count": 121,
   "metadata": {},
   "outputs": [],
   "source": [
    "from urllib.request import urlopen\n",
    "from selenium import webdriver\n",
    "from selenium.webdriver.chrome.service import Service\n",
    "from selenium.webdriver.chrome.options import Options\n",
    "from selenium.webdriver.common.by import By\n",
    "import chromedriver_binary\n",
    "import json\n",
    "import uuid\n",
    "import urllib.parse\n",
    "import requests\n",
    "import re\n",
    "import pymssql"
   ]
  },
  {
   "cell_type": "code",
   "execution_count": 122,
   "metadata": {},
   "outputs": [],
   "source": [
    "def buscaAvaliacaoEmpresaNoGoogle(nomeEmpresa):\n",
    "\n",
    "    LOG('buscaAvaliacaoEmpresaNoGoogle', 'Iniciado')\n",
    "\n",
    "    site = 'https://www.google.com/search?q={}'.format(urllib.parse.quote(nomeEmpresa))\n",
    "\n",
    "    LOG('buscaAvaliacaoEmpresaNoGoogle', 'Buscar empresa no google: {}'.format(site))\n",
    "\n",
    "    avaliacao = ''\n",
    "    try:\n",
    "        options = Options()\n",
    "        options.add_argument(\"--headless\")\n",
    "        options.add_argument('--no-sandbox')\n",
    "        options.add_argument('--disable-gpu')\n",
    "        options.add_argument('start-maximized')  \n",
    "        options.add_argument('disable-infobars')\n",
    "        options.add_argument(\"--disable-extensions\")\n",
    "        service = Service('C:/Users/Administrador/Documents/cdbancodados/trabalhos/chromedriver.exe')\n",
    "        service.start()\n",
    "        driver = webdriver.Remote(service.service_url, options = options)\n",
    "        driver.get(site)\n",
    "        element = driver.find_element(By.CSS_SELECTOR, \".Aq14fc\")\n",
    "        avaliacao = element.text\n",
    "        driver.quit()\n",
    "    except:\n",
    "        avaliacao = ''\n",
    "        LOG('buscaAvaliacaoEmpresaNoGoogle', 'Erro ao buscar avaliação')\n",
    "\n",
    "    LOG('buscaAvaliacaoEmpresaNoGoogle', 'Finalizado')\n",
    "\n",
    "    return avaliacao"
   ]
  },
  {
   "cell_type": "code",
   "execution_count": 123,
   "metadata": {},
   "outputs": [],
   "source": [
    "def existeEmpresaComNome(cursor, nome):\n",
    "\n",
    "    LOG('existeEmpresaComNome', 'Iniciado')\n",
    "\n",
    "    cursor.execute(\"SELECT 1 FROM empresa WHERE nome = '{}'\".format(nome.replace(\"'\", \"''\")))\n",
    "    resultado = cursor.fetchone()\n",
    "    existeEmpresa = False\n",
    "\n",
    "    if (resultado != None):\n",
    "        existeEmpresa = True\n",
    "\n",
    "    LOG('existeEmpresaComNome', 'Existe empresa? {}'.format(existeEmpresa))\n",
    "    LOG('existeEmpresaComNome', 'Finalizado')\n",
    "\n",
    "    return existeEmpresa"
   ]
  },
  {
   "cell_type": "code",
   "execution_count": 124,
   "metadata": {},
   "outputs": [],
   "source": [
    "def inserirTelefonesEmpresa(conexao, cursor, empresaId, telefones):\n",
    "    \n",
    "    LOG('inserirTelefonesEmpresa', 'Iniciado')\n",
    "\n",
    "    for telefone in telefones:\n",
    "        \n",
    "        idTelefone = uuid.uuid4()\n",
    "        \n",
    "        LOG('inserirTelefonesEmpresa', 'UUID do registro: {}'.format(str(idTelefone)))\n",
    "        \n",
    "        whatsapp = 0\n",
    "        if telefone['whatsapp'] == 'true':\n",
    "            whatsapp = 1\n",
    "        \n",
    "        telefone0800 = 0\n",
    "        if telefone['telefone0800'] == 'true':\n",
    "            telefone0800 = 1\n",
    "\n",
    "        cursor.execute(\"INSERT INTO empresa_telefone (id, id_empresa, ddd, telefone, telefoneCompleto, whatsapp, telefone0800) VALUES (%s, %s, %s, %s, %s, %s, %s)\",(str(idTelefone), str(empresaId), telefone['ddd'], telefone['telefone'], telefone['telefoneCompleto'], whatsapp, telefone0800))\n",
    "        conexao.commit()\n",
    "\n",
    "    LOG('inserirTelefonesEmpresa', 'Finalizado')\n",
    "\n",
    "    return"
   ]
  },
  {
   "cell_type": "code",
   "execution_count": 125,
   "metadata": {},
   "outputs": [],
   "source": [
    "def inserirEnderecosEmpresa(conexao, cursor, empresaId, enderecos):\n",
    "\n",
    "    LOG('inserirEnderecosEmpresa', 'Iniciado')\n",
    "\n",
    "    for endereco in enderecos:\n",
    "        \n",
    "        idEndereco = uuid.uuid4()\n",
    "        \n",
    "        LOG('inserirEnderecosEmpresa', 'UUID do registro: {}'.format(str(idEndereco)))\n",
    "\n",
    "        cursor.execute(\"INSERT INTO empresa_endereco (id, id_empresa, endereco) VALUES (%s, %s, %s)\",(str(idEndereco), str(empresaId), endereco))\n",
    "        conexao.commit()\n",
    "\n",
    "    LOG('inserirEnderecosEmpresa', 'Finalizado')\n",
    "\n",
    "    return"
   ]
  },
  {
   "cell_type": "code",
   "execution_count": 126,
   "metadata": {},
   "outputs": [],
   "source": [
    "def inserirEmpresa(conexao, cursor, empresa):\n",
    "\n",
    "    LOG('inserirEmpresa', 'Iniciado')\n",
    "\n",
    "    pessoaJuridica = 1\n",
    "    if empresa['pessoaJuridica'] == False:\n",
    "        pessoaJuridica = 0\n",
    "    \n",
    "    if pessoaJuridica == 0:\n",
    "        LOG('inserirEmpresa', 'Pessoa fisica: {} nao inserida'.format(empresa['nome']))\n",
    "        LOG('inserirEmpresa', 'Finalizado')\n",
    "        return\n",
    "\n",
    "    if (existeEmpresaComNome(cursor, empresa['nome']) == False):\n",
    "        \n",
    "        avaliacao = buscaAvaliacaoEmpresaNoGoogle('{}, {}'.format(empresa['nome'], empresa['cidade']))\n",
    "\n",
    "        idEmpresa = uuid.uuid4()\n",
    "        \n",
    "        LOG('inserirEmpresa', 'UUID do registro: {}'.format(str(idEmpresa)))\n",
    "        LOG('inserirEmpresa', 'Avaliação: {}'.format(avaliacao))\n",
    "        \n",
    "        cursor.execute(\"INSERT INTO empresa (id, nome, atividade, emailCliente, cep, cidade, estado, bairro, uf, pessoaJuridica, avaliacaoGoogle) VALUES (%s, %s, %s, %s, %s, %s, %s, %s, %s, %s, %s)\",(str(idEmpresa), empresa['nome'], empresa['atividade'], empresa['emailCliente'], empresa['cep'], empresa['cidade'], empresa['estado'], empresa['bairro'], empresa['uf'], pessoaJuridica, avaliacao))\n",
    "        conexao.commit()\n",
    "\n",
    "        inserirTelefonesEmpresa(conexao, cursor, idEmpresa, empresa['telefones'])\n",
    "        inserirEnderecosEmpresa(conexao, cursor, idEmpresa, empresa['enderecos'])\n",
    "\n",
    "        LOG('inserirEmpresa', 'Registro inserido: {}'.format(empresa['nome']))\n",
    "\n",
    "    LOG('inserirEmpresa', 'Finalizado')\n",
    "\n",
    "    return"
   ]
  },
  {
   "cell_type": "code",
   "execution_count": 127,
   "metadata": {},
   "outputs": [],
   "source": [
    "def inserirEmpresas(empresas):\n",
    "\n",
    "    LOG('inserirEmpresas', 'Iniciado')\n",
    "\n",
    "    nomeBancoDados = 'PosGuilherme'\n",
    "    usuarioBancoDados = ''\n",
    "    senhaBancoDados = ''\n",
    "    hostBancoDados = 'LAB-C326-08'\n",
    "\n",
    "    conexao = pymssql.connect(server = hostBancoDados, database = nomeBancoDados)\n",
    "    cursor = conexao.cursor()\n",
    "\n",
    "    LOG('inserirEmpresas', 'Conexao com banco de dados: {} efetuada'.format(nomeBancoDados))\n",
    "\n",
    "    for empresa in empresas:\n",
    "        inserirEmpresa(conexao, cursor, empresa)\n",
    "\n",
    "    cursor.close()\n",
    "    conexao.close()\n",
    "\n",
    "    LOG('inserirEmpresas', 'Conexao com banco de dados: {} finalizada'.format(nomeBancoDados))\n",
    "    LOG('inserirEmpresas', 'Finalizado')\n",
    "\n",
    "    return"
   ]
  },
  {
   "cell_type": "code",
   "execution_count": 128,
   "metadata": {},
   "outputs": [],
   "source": [
    "def buscarEmpresasDaPagina(categoria, cidade, estado, pagina):\n",
    "\n",
    "    LOG('buscarEmpresasDaPagina', 'Iniciado')\n",
    "\n",
    "    site = 'https://guiafacil.com/buscaAjax.php?busca={}&cidade={}&tipoBusca=segmento&estado={}&pagina={}'\n",
    "    site = site.format(categoria, cidade, estado, pagina)\n",
    "\n",
    "    LOG('buscarEmpresasDaPagina', 'Buscar: {}'.format(site))\n",
    "\n",
    "    conteudo = urlopen(site).read()\n",
    "    conteudoJson = json.loads(conteudo)\n",
    "    resultado = conteudoJson['resultados']\n",
    "\n",
    "    LOG('buscarEmpresasDaPagina', 'Quantidade de empresas da página: {}'.format(len(resultado)))\n",
    "    LOG('buscarEmpresasDaPagina', 'Finalizado')\n",
    "\n",
    "    return resultado"
   ]
  },
  {
   "cell_type": "code",
   "execution_count": 129,
   "metadata": {},
   "outputs": [],
   "source": [
    "def buscarEmpresas(categoria, cidade, estado):\n",
    "\n",
    "    LOG('buscarEmpresas', 'Iniciado')\n",
    "\n",
    "    pagina = 1\n",
    "    while(True):\n",
    "        resultadoPagina = buscarEmpresasDaPagina(categoria, cidade, estado, pagina)\n",
    "        if (len(resultadoPagina) == 0):\n",
    "            break\n",
    "\n",
    "        inserirEmpresas(resultadoPagina)\n",
    "        pagina += 1\n",
    "\n",
    "    LOG('buscarEmpresas', 'Finalizado')\n",
    "\n",
    "    return"
   ]
  },
  {
   "cell_type": "code",
   "execution_count": 130,
   "metadata": {},
   "outputs": [
    {
     "name": "stdout",
     "output_type": "stream",
     "text": "VENTOS\n[inserirEmpresa] => Finalizado\n[inserirEmpresa] => Iniciado\n[existeEmpresaComNome] => Iniciado\n[existeEmpresaComNome] => Existe empresa? False\n[existeEmpresaComNome] => Finalizado\n[buscaAvaliacaoEmpresaNoGoogle] => Iniciado\n[buscaAvaliacaoEmpresaNoGoogle] => Buscar empresa no google: https://www.google.com/search?q=TELEMENSAGEM%20100%25%20LOUCURAS%20DE%20AMOR%2C%20Joinville\n[buscaAvaliacaoEmpresaNoGoogle] => Finalizado\n[inserirEmpresa] => UUID do registro: 600d4a9b-a930-4f68-b84c-8674d01ac432\n[inserirEmpresa] => Avaliação: 3,7\n[inserirTelefonesEmpresa] => Iniciado\n[inserirTelefonesEmpresa] => UUID do registro: b762749e-a02f-4614-9e2e-d48e86fbe1e9\n[inserirTelefonesEmpresa] => UUID do registro: f042040d-fbf7-4515-b04e-a826cc3e8d9b\n[inserirTelefonesEmpresa] => Finalizado\n[inserirEnderecosEmpresa] => Iniciado\n[inserirEnderecosEmpresa] => UUID do registro: 934d7e3b-16c6-468e-9f99-936696ca16ab\n[inserirEnderecosEmpresa] => Finalizado\n[inserirEmpresa] => Registro inserido: TELEMENSAGEM 100% LOUCURAS DE AMOR\n[inserirEmpresa] => Finalizado\n[inserirEmpresa] => Iniciado\n[existeEmpresaComNome] => Iniciado\n[existeEmpresaComNome] => Existe empresa? False\n[existeEmpresaComNome] => Finalizado\n[buscaAvaliacaoEmpresaNoGoogle] => Iniciado\n[buscaAvaliacaoEmpresaNoGoogle] => Buscar empresa no google: https://www.google.com/search?q=FRETES%20HOSTIM%20-%20F%201000%2C%20Joinville\n[buscaAvaliacaoEmpresaNoGoogle] => Finalizado\n[inserirEmpresa] => UUID do registro: af1ac7d1-953b-4135-91cc-535b1f1bb8bc\n[inserirEmpresa] => Avaliação: \n[inserirTelefonesEmpresa] => Iniciado\n[inserirTelefonesEmpresa] => UUID do registro: abad64b1-bebf-427f-bb64-77535548c32d\n[inserirTelefonesEmpresa] => Finalizado\n[inserirEnderecosEmpresa] => Iniciado\n[inserirEnderecosEmpresa] => UUID do registro: cca64f3c-ee9a-4cc8-b63a-f84aa14d253e\n[inserirEnderecosEmpresa] => Finalizado\n[inserirEmpresa] => Registro inserido: FRETES HOSTIM - F 1000\n[inserirEmpresa] => Finalizado\n[inserirEmpresa] => Iniciado\n[existeEmpresaComNome] => Iniciado\n[existeEmpresaComNome] => Existe empresa? False\n[existeEmpresaComNome] => Finalizado\n[buscaAvaliacaoEmpresaNoGoogle] => Iniciado\n[buscaAvaliacaoEmpresaNoGoogle] => Buscar empresa no google: https://www.google.com/search?q=1000%20EMBALAGENS%2C%20Joinville\n[buscaAvaliacaoEmpresaNoGoogle] => Finalizado\n[inserirEmpresa] => UUID do registro: ffa2b331-176f-48c9-b0a4-06489d553789\n[inserirEmpresa] => Avaliação: 4,5\n[inserirTelefonesEmpresa] => Iniciado\n[inserirTelefonesEmpresa] => UUID do registro: c2450ee2-4a57-465a-a81b-3d98b83eca4c\n[inserirTelefonesEmpresa] => Finalizado\n[inserirEnderecosEmpresa] => Iniciado\n[inserirEnderecosEmpresa] => UUID do registro: 062d94da-4b38-4e66-b32f-9fe30c0766b0\n[inserirEnderecosEmpresa] => Finalizado\n[inserirEmpresa] => Registro inserido: 1000 EMBALAGENS\n[inserirEmpresa] => Finalizado\n[inserirEmpresa] => Iniciado\n[existeEmpresaComNome] => Iniciado\n[existeEmpresaComNome] => Existe empresa? False\n[existeEmpresaComNome] => Finalizado\n[buscaAvaliacaoEmpresaNoGoogle] => Iniciado\n[buscaAvaliacaoEmpresaNoGoogle] => Buscar empresa no google: https://www.google.com/search?q=RADIO%20107%2C5%20FM%2C%20Joinville\n[buscaAvaliacaoEmpresaNoGoogle] => Finalizado\n[inserirEmpresa] => UUID do registro: babe2a16-c758-4290-bca3-6d64df48258c\n[inserirEmpresa] => Avaliação: 4,9\n[inserirTelefonesEmpresa] => Iniciado\n[inserirTelefonesEmpresa] => UUID do registro: 741f257b-6f70-4d18-8997-934d01f63d5f\n[inserirTelefonesEmpresa] => Finalizado\n[inserirEnderecosEmpresa] => Iniciado\n[inserirEnderecosEmpresa] => UUID do registro: 1e8ed15c-1444-496a-add1-a056e4eb4385\n[inserirEnderecosEmpresa] => Finalizado\n[inserirEmpresa] => Registro inserido: RADIO 107,5 FM\n[inserirEmpresa] => Finalizado\n[inserirEmpresa] => Iniciado\n[existeEmpresaComNome] => Iniciado\n[existeEmpresaComNome] => Existe empresa? False\n[existeEmpresaComNome] => Finalizado\n[buscaAvaliacaoEmpresaNoGoogle] => Iniciado\n[buscaAvaliacaoEmpresaNoGoogle] => Buscar empresa no google: https://www.google.com/search?q=ROMACITA%20P%20PINTO%20CORRETORA%20DE%20IMOVEIS%20CRECI%2010805%2C%20Joinville\n[buscaAvaliacaoEmpresaNoGoogle] => Erro ao buscar avaliação\n[buscaAvaliacaoEmpresaNoGoogle] => Finalizado\n[inserirEmpresa] => UUID do registro: 25cfa5dd-cfb6-4a3b-9b4b-a24edaface2c\n[inserirEmpresa] => Avaliação: \n[inserirTelefonesEmpresa] => Iniciado\n[inserirTelefonesEmpresa] => UUID do registro: ca121c03-b727-4de7-a3a8-07ff1c07b3ef\n[inserirTelefonesEmpresa] => UUID do registro: cc69bc50-dc42-434f-af20-fc49829c2cd1\n[inserirTelefonesEmpresa] => Finalizado\n[inserirEnderecosEmpresa] => Iniciado\n[inserirEnderecosEmpresa] => UUID do registro: 05dc891c-76d8-469c-a00b-abd761bb2f9d\n[inserirEnderecosEmpresa] => Finalizado\n[inserirEmpresa] => Registro inserido: ROMACITA P PINTO CORRETORA DE IMOVEIS CRECI 10805\n[inserirEmpresa] => Finalizado\n[inserirEmpresa] => Iniciado\n[existeEmpresaComNome] => Iniciado\n[existeEmpresaComNome] => Existe empresa? False\n[existeEmpresaComNome] => Finalizado\n[buscaAvaliacaoEmpresaNoGoogle] => Iniciado\n[buscaAvaliacaoEmpresaNoGoogle] => Buscar empresa no google: https://www.google.com/search?q=PHOTO%20STUDIO%2012%2C%20Joinville\n[buscaAvaliacaoEmpresaNoGoogle] => Finalizado\n[inserirEmpresa] => UUID do registro: 0e1f77d8-3f7c-4d0d-ad2a-3bcdb98f93e8\n[inserirEmpresa] => Avaliação: \n[inserirTelefonesEmpresa] => Iniciado\n[inserirTelefonesEmpresa] => UUID do registro: fb7c94b4-0461-473d-a23b-809fec20d017\n[inserirTelefonesEmpresa] => Finalizado\n[inserirEnderecosEmpresa] => Iniciado\n[inserirEnderecosEmpresa] => UUID do registro: 9f76bd0c-1392-4081-9c75-2c2ba06a73f4\n[inserirEnderecosEmpresa] => Finalizado\n[inserirEmpresa] => Registro inserido: PHOTO STUDIO 12\n[inserirEmpresa] => Finalizado\n[inserirEmpresa] => Iniciado\n[existeEmpresaComNome] => Iniciado\n[existeEmpresaComNome] => Existe empresa? False\n[existeEmpresaComNome] => Finalizado\n[buscaAvaliacaoEmpresaNoGoogle] => Iniciado\n[buscaAvaliacaoEmpresaNoGoogle] => Buscar empresa no google: https://www.google.com/search?q=CONSELHO%20REGIONAL%20DE%20ADMINISTRACAO%2012%20REGIAO%2C%20Joinville\n[buscaAvaliacaoEmpresaNoGoogle] => Erro ao buscar avaliação\n[buscaAvaliacaoEmpresaNoGoogle] => Finalizado\n[inserirEmpresa] => UUID do registro: b0a99ab3-6c0c-4474-b04b-45bb29725234\n[inserirEmpresa] => Avaliação: \n[inserirTelefonesEmpresa] => Iniciado\n[inserirTelefonesEmpresa] => UUID do registro: 21d7e1b6-b71e-4e2e-833e-4bf648613036\n[inserirTelefonesEmpresa] => Finalizado\n[inserirEnderecosEmpresa] => Iniciado\n[inserirEnderecosEmpresa] => UUID do registro: fd9684ea-e438-4736-9a68-d0ad1536dd11\n[inserirEnderecosEmpresa] => Finalizado\n[inserirEmpresa] => Registro inserido: CONSELHO REGIONAL DE ADMINISTRACAO 12 REGIAO\n[inserirEmpresa] => Finalizado\n[inserirEmpresa] => Iniciado\n[existeEmpresaComNome] => Iniciado\n[existeEmpresaComNome] => Existe empresa? False\n[existeEmpresaComNome] => Finalizado\n[buscaAvaliacaoEmpresaNoGoogle] => Iniciado\n[buscaAvaliacaoEmpresaNoGoogle] => Buscar empresa no google: https://www.google.com/search?q=PROCURADORIA%20REGIONAL%20TRAB%2012%C2%BA%20REGIAO%2C%20Joinville\n[buscaAvaliacaoEmpresaNoGoogle] => Erro ao buscar avaliação\n[buscaAvaliacaoEmpresaNoGoogle] => Finalizado\n[inserirEmpresa] => UUID do registro: cb3e3f3b-141a-4869-8ff6-db165817cb2a\n[inserirEmpresa] => Avaliação: \n[inserirTelefonesEmpresa] => Iniciado\n[inserirTelefonesEmpresa] => UUID do registro: 9f95e775-5536-4e9f-8016-675873463f71\n[inserirTelefonesEmpresa] => Finalizado\n[inserirEnderecosEmpresa] => Iniciado\n[inserirEnderecosEmpresa] => UUID do registro: ac9c3b00-446d-4ebb-a3ae-497492055e47\n[inserirEnderecosEmpresa] => Finalizado\n[inserirEmpresa] => Registro inserido: PROCURADORIA REGIONAL TRAB 12º REGIAO\n[inserirEmpresa] => Finalizado\n[inserirEmpresa] => Iniciado\n[existeEmpresaComNome] => Iniciado\n[existeEmpresaComNome] => Existe empresa? False\n[existeEmpresaComNome] => Finalizado\n[buscaAvaliacaoEmpresaNoGoogle] => Iniciado\n[buscaAvaliacaoEmpresaNoGoogle] => Buscar empresa no google: https://www.google.com/search?q=TRIBUNAL%20REGIONAL%20DO%20TRABALHO%20DA%2012%20REGIAO%2C%20Joinville\n[buscaAvaliacaoEmpresaNoGoogle] => Finalizado\n[inserirEmpresa] => UUID do registro: 2274d607-303f-4292-b26c-ab0b3fe67968\n[inserirEmpresa] => Avaliação: 4,2\n[inserirTelefonesEmpresa] => Iniciado\n[inserirTelefonesEmpresa] => UUID do registro: af340f86-0bc4-4380-bd1a-f6995bec6567\n[inserirTelefonesEmpresa] => Finalizado\n[inserirEnderecosEmpresa] => Iniciado\n[inserirEnderecosEmpresa] => UUID do registro: 52c11c3f-138a-4ccc-8894-896d7352ed2f\n[inserirEnderecosEmpresa] => Finalizado\n[inserirEmpresa] => Registro inserido: TRIBUNAL REGIONAL DO TRABALHO DA 12 REGIAO\n[inserirEmpresa] => Finalizado\n[inserirEmpresa] => Iniciado\n[existeEmpresaComNome] => Iniciado\n[existeEmpresaComNome] => Existe empresa? False\n[existeEmpresaComNome] => Finalizado\n[buscaAvaliacaoEmpresaNoGoogle] => Iniciado\n[buscaAvaliacaoEmpresaNoGoogle] => Buscar empresa no google: https://www.google.com/search?q=FAGUNDES%20CORRETOR%20DE%20IMOVEIS%20CRECI%2014046%2C%20Joinville\n[buscaAvaliacaoEmpresaNoGoogle] => Erro ao buscar avaliação\n[buscaAvaliacaoEmpresaNoGoogle] => Finalizado\n[inserirEmpresa] => UUID do registro: c0ff692c-0741-4519-8299-2347b3659f30\n[inserirEmpresa] => Avaliação: \n[inserirTelefonesEmpresa] => Iniciado\n[inserirTelefonesEmpresa] => UUID do registro: 0a2717e1-cf45-4f2d-b550-8c9e00dcf1da\n[inserirTelefonesEmpresa] => UUID do registro: ed380645-8ee9-42e4-b2ba-ab0714fcc7c2\n[inserirTelefonesEmpresa] => Finalizado\n[inserirEnderecosEmpresa] => Iniciado\n[inserirEnderecosEmpresa] => UUID do registro: e591896f-eccd-43aa-b88e-fc8f64e656aa\n[inserirEnderecosEmpresa] => Finalizado\n[inserirEmpresa] => Registro inserido: FAGUNDES CORRETOR DE IMOVEIS CRECI 14046\n[inserirEmpresa] => Finalizado\n[inserirEmpresa] => Iniciado\n[existeEmpresaComNome] => Iniciado\n[existeEmpresaComNome] => Existe empresa? False\n[existeEmpresaComNome] => Finalizado\n[buscaAvaliacaoEmpresaNoGoogle] => Iniciado\n[buscaAvaliacaoEmpresaNoGoogle] => Buscar empresa no google: https://www.google.com/search?q=GARAGEM%20166%20-%20ESTETICA%20AUTOMOTIVA%2C%20Joinville\n[buscaAvaliacaoEmpresaNoGoogle] => Erro ao buscar avaliação\n[buscaAvaliacaoEmpresaNoGoogle] => Finalizado\n[inserirEmpresa] => UUID do registro: f1725686-7906-4e9a-8a0b-d544c4127030\n[inserirEmpresa] => Avaliação: \n[inserirTelefonesEmpresa] => Iniciado\n[inserirTelefonesEmpresa] => UUID do registro: 7893d4ae-fbb1-4302-ab1f-864c4e82ec1f\n[inserirTelefonesEmpresa] => Finalizado\n[inserirEnderecosEmpresa] => Iniciado\n[inserirEnderecosEmpresa] => UUID do registro: 467b1d67-6d64-45d6-8314-e152fa573d1f\n[inserirEnderecosEmpresa] => Finalizado\n[inserirEmpresa] => Registro inserido: GARAGEM 166 - ESTETICA AUTOMOTIVA\n[inserirEmpresa] => Finalizado\n[inserirEmpresa] => Iniciado\n[existeEmpresaComNome] => Iniciado\n[existeEmpresaComNome] => Existe empresa? False\n[existeEmpresaComNome] => Finalizado\n[buscaAvaliacaoEmpresaNoGoogle] => Iniciado\n[buscaAvaliacaoEmpresaNoGoogle] => Buscar empresa no google: https://www.google.com/search?q=GUINCHOS%202%20IRMAOS%2C%20Joinville\n[buscaAvaliacaoEmpresaNoGoogle] => Finalizado\n[inserirEmpresa] => UUID do registro: 9a3a8200-38c3-4fd5-817b-9767d6ae3c72\n[inserirEmpresa] => Avaliação: 1,0\n[inserirTelefonesEmpresa] => Iniciado\n[inserirTelefonesEmpresa] => UUID do registro: 697e09a5-5ae6-48ad-957b-9024daa3d8f6\n[inserirTelefonesEmpresa] => Finalizado\n[inserirEnderecosEmpresa] => Iniciado\n[inserirEnderecosEmpresa] => UUID do registro: e3dd35cd-e0c6-4d2a-9eb7-a18ae9e4b930\n[inserirEnderecosEmpresa] => Finalizado\n[inserirEmpresa] => Registro inserido: GUINCHOS 2 IRMAOS\n[inserirEmpresa] => Finalizado\n[inserirEmpresa] => Iniciado\n[existeEmpresaComNome] => Iniciado\n[existeEmpresaComNome] => Existe empresa? False\n[existeEmpresaComNome] => Finalizado\n[buscaAvaliacaoEmpresaNoGoogle] => Iniciado\n[buscaAvaliacaoEmpresaNoGoogle] => Buscar empresa no google: https://www.google.com/search?q=M2%20EMPREITEIRA%20DE%20MAO-DE-OBRA%2C%20Joinville\n[buscaAvaliacaoEmpresaNoGoogle] => Finalizado\n[inserirEmpresa] => UUID do registro: b644fbd3-2153-4fd4-9ab3-a1a519a3c4d2\n[inserirEmpresa] => Avaliação: \n[inserirTelefonesEmpresa] => Iniciado\n[inserirTelefonesEmpresa] => UUID do registro: 9d73851b-578a-40ff-921a-6146c84deebe\n[inserirTelefonesEmpresa] => UUID do registro: 78f58b8b-4bee-443f-9773-5b5ddb81708d\n[inserirTelefonesEmpresa] => UUID do registro: 467fe347-afd6-407f-a3c0-1cf02ab86c85\n[inserirTelefonesEmpresa] => Finalizado\n[inserirEnderecosEmpresa] => Iniciado\n[inserirEnderecosEmpresa] => UUID do registro: 4984712c-70f0-4a01-90ba-9c5957909701\n[inserirEnderecosEmpresa] => Finalizado\n[inserirEmpresa] => Registro inserido: M2 EMPREITEIRA DE MAO-DE-OBRA\n[inserirEmpresa] => Finalizado\n[inserirEmpresa] => Iniciado\n[existeEmpresaComNome] => Iniciado\n[existeEmpresaComNome] => Existe empresa? False\n[existeEmpresaComNome] => Finalizado\n[buscaAvaliacaoEmpresaNoGoogle] => Iniciado\n[buscaAvaliacaoEmpresaNoGoogle] => Buscar empresa no google: https://www.google.com/search?q=COMERCIO%20DE%20AREIA%202%20IRMAOS%2C%20Joinville\n[buscaAvaliacaoEmpresaNoGoogle] => Finalizado\n[inserirEmpresa] => UUID do registro: ad85306d-4545-4c64-ab4f-40ef5d7b83ea\n[inserirEmpresa] => Avaliação: 4,2\n[inserirTelefonesEmpresa] => Iniciado\n[inserirTelefonesEmpresa] => UUID do registro: a08a1c69-a51e-423f-9a4e-8c0bf4743dbe\n[inserirTelefonesEmpresa] => Finalizado\n[inserirEnderecosEmpresa] => Iniciado\n[inserirEnderecosEmpresa] => UUID do registro: 6c2815f1-64a4-4e4a-9db1-0a626c626c0c\n[inserirEnderecosEmpresa] => Finalizado\n[inserirEmpresa] => Registro inserido: COMERCIO DE AREIA 2 IRMAOS\n[inserirEmpresa] => Finalizado\n[inserirEmpresa] => Iniciado\n[existeEmpresaComNome] => Iniciado\n[existeEmpresaComNome] => Existe empresa? False\n[existeEmpresaComNome] => Finalizado\n[buscaAvaliacaoEmpresaNoGoogle] => Iniciado\n[buscaAvaliacaoEmpresaNoGoogle] => Buscar empresa no google: https://www.google.com/search?q=K2%20COM%20LTDA%2C%20Joinville\n[buscaAvaliacaoEmpresaNoGoogle] => Finalizado\n[inserirEmpresa] => UUID do registro: 198114d6-dfa6-44f7-8a76-e55fc8ee72e5\n[inserirEmpresa] => Avaliação: 3,9\n[inserirTelefonesEmpresa] => Iniciado\n[inserirTelefonesEmpresa] => UUID do registro: c15ba617-7dc5-4051-a6ea-3e0022a633cf\n[inserirTelefonesEmpresa] => Finalizado\n[inserirEnderecosEmpresa] => Iniciado\n[inserirEnderecosEmpresa] => UUID do registro: 70b9cb52-7bec-49f2-ad3d-57a833311f4c\n[inserirEnderecosEmpresa] => Finalizado\n[inserirEmpresa] => Registro inserido: K2 COM LTDA\n[inserirEmpresa] => Finalizado\n[inserirEmpresa] => Iniciado\n[existeEmpresaComNome] => Iniciado\n[existeEmpresaComNome] => Existe empresa? False\n[existeEmpresaComNome] => Finalizado\n[buscaAvaliacaoEmpresaNoGoogle] => Iniciado\n[buscaAvaliacaoEmpresaNoGoogle] => Buscar empresa no google: https://www.google.com/search?q=AUTO%20CENTER%20H20%2C%20Joinville\n[buscaAvaliacaoEmpresaNoGoogle] => Finalizado\n[inserirEmpresa] => UUID do registro: c0f4e9de-d31f-4cf2-b1ec-1db7d0e59f37\n[inserirEmpresa] => Avaliação: 3,5\n[inserirTelefonesEmpresa] => Iniciado\n[inserirTelefonesEmpresa] => UUID do registro: 2e56f0bc-ed96-484b-a3bd-407b6f922d4c\n[inserirTelefonesEmpresa] => Finalizado\n[inserirEnderecosEmpresa] => Iniciado\n[inserirEnderecosEmpresa] => UUID do registro: 95c5c1cf-74d1-4766-a5ab-7fe9ae5e2ec0\n[inserirEnderecosEmpresa] => Finalizado\n[inserirEmpresa] => Registro inserido: AUTO CENTER H20\n[inserirEmpresa] => Finalizado\n[inserirEmpresa] => Iniciado\n[existeEmpresaComNome] => Iniciado\n[existeEmpresaComNome] => Existe empresa? False\n[existeEmpresaComNome] => Finalizado\n[buscaAvaliacaoEmpresaNoGoogle] => Iniciado\n[buscaAvaliacaoEmpresaNoGoogle] => Buscar empresa no google: https://www.google.com/search?q=AUTOELETRICA%20E%20MECANICA%202000%2C%20Joinville\n[buscaAvaliacaoEmpresaNoGoogle] => Finalizado\n[inserirEmpresa] => UUID do registro: f184f7f3-c365-4be7-be3e-fc163727d4b2\n[inserirEmpresa] => Avaliação: 4,2\n[inserirTelefonesEmpresa] => Iniciado\n[inserirTelefonesEmpresa] => UUID do registro: 4f6d5216-9f43-41c6-bf40-9e550d2b7d3a\n[inserirTelefonesEmpresa] => Finalizado\n[inserirEnderecosEmpresa] => Iniciado\n[inserirEnderecosEmpresa] => UUID do registro: 8c1498aa-a56c-4678-8127-7dae085a44da\n[inserirEnderecosEmpresa] => Finalizado\n[inserirEmpresa] => Registro inserido: AUTOELETRICA E MECANICA 2000\n[inserirEmpresa] => Finalizado\n[inserirEmpresa] => Iniciado\n[existeEmpresaComNome] => Iniciado\n[existeEmpresaComNome] => Existe empresa? False\n[existeEmpresaComNome] => Finalizado\n[buscaAvaliacaoEmpresaNoGoogle] => Iniciado\n[buscaAvaliacaoEmpresaNoGoogle] => Buscar empresa no google: https://www.google.com/search?q=RESTAURANTE%20E%20PETISQUEIRA%20BOX%2022%2C%20Joinville\n[buscaAvaliacaoEmpresaNoGoogle] => Erro ao buscar avaliação\n[buscaAvaliacaoEmpresaNoGoogle] => Finalizado\n[inserirEmpresa] => UUID do registro: 5cf0f64a-5272-4b63-bc36-6c383471164a\n[inserirEmpresa] => Avaliação: \n[inserirTelefonesEmpresa] => Iniciado\n[inserirTelefonesEmpresa] => UUID do registro: 9e74acfe-8af5-4ade-a4b3-54f9e959ce7c\n[inserirTelefonesEmpresa] => Finalizado\n[inserirEnderecosEmpresa] => Iniciado\n[inserirEnderecosEmpresa] => UUID do registro: 4bc49af4-e581-4459-87f6-1cb60bd7e313\n[inserirEnderecosEmpresa] => Finalizado\n[inserirEmpresa] => Registro inserido: RESTAURANTE E PETISQUEIRA BOX 22\n[inserirEmpresa] => Finalizado\n[inserirEmpresa] => Iniciado\n[existeEmpresaComNome] => Iniciado\n[existeEmpresaComNome] => Existe empresa? False\n[existeEmpresaComNome] => Finalizado\n[buscaAvaliacaoEmpresaNoGoogle] => Iniciado\n[buscaAvaliacaoEmpresaNoGoogle] => Buscar empresa no google: https://www.google.com/search?q=23%C2%BA%20GERENCIA%20REGIONAL%20DE%20SAUDE%2C%20Joinville\n[buscaAvaliacaoEmpresaNoGoogle] => Finalizado\n[inserirEmpresa] => UUID do registro: 3b1a9247-244b-4e5d-b116-c87d0e442a22\n[inserirEmpresa] => Avaliação: 2,0\n[inserirTelefonesEmpresa] => Iniciado\n[inserirTelefonesEmpresa] => UUID do registro: fc80705a-caa1-4c72-b053-8e5d293032f9\n[inserirTelefonesEmpresa] => Finalizado\n[inserirEnderecosEmpresa] => Iniciado\n[inserirEnderecosEmpresa] => UUID do registro: 1c72223f-f2e8-4291-8469-0bc28a3346c2\n[inserirEnderecosEmpresa] => Finalizado\n[inserirEmpresa] => Registro inserido: 23º GERENCIA REGIONAL DE SAUDE\n[inserirEmpresa] => Finalizado\n[inserirEmpresas] => Conexao com banco de dados: PosGuilherme finalizada\n[inserirEmpresas] => Finalizado\n[buscarEmpresasDaPagina] => Iniciado\n[buscarEmpresasDaPagina] => Buscar: https://guiafacil.com/buscaAjax.php?busca=&cidade=joinville&tipoBusca=segmento&estado=santa-catarina&pagina=71\n[buscarEmpresasDaPagina] => Quantidade de empresas da página: 20\n[buscarEmpresasDaPagina] => Finalizado\n[inserirEmpresas] => Iniciado\n[inserirEmpresas] => Conexao com banco de dados: PosGuilherme efetuada\n[inserirEmpresa] => Iniciado\n[existeEmpresaComNome] => Iniciado\n[existeEmpresaComNome] => Existe empresa? False\n[existeEmpresaComNome] => Finalizado\n[buscaAvaliacaoEmpresaNoGoogle] => Iniciado\n[buscaAvaliacaoEmpresaNoGoogle] => Buscar empresa no google: https://www.google.com/search?q=PONTO%20DE%20TAXI%20PA%2024%20HORAS%20-%20CARLOS%2C%20Joinville\n[buscaAvaliacaoEmpresaNoGoogle] => Finalizado\n[inserirEmpresa] => UUID do registro: ba357475-e345-4b8e-a9cc-5f980f1b7b62\n[inserirEmpresa] => Avaliação: 4,2\n[inserirTelefonesEmpresa] => Iniciado\n[inserirTelefonesEmpresa] => UUID do registro: d4994439-3444-4724-9f63-24537ceeb99f\n[inserirTelefonesEmpresa] => Finalizado\n[inserirEnderecosEmpresa] => Iniciado\n[inserirEnderecosEmpresa] => UUID do registro: 9a9bc400-0323-4efe-a713-6b0c2a65a8bd\n[inserirEnderecosEmpresa] => Finalizado\n[inserirEmpresa] => Registro inserido: PONTO DE TAXI PA 24 HORAS - CARLOS\n[inserirEmpresa] => Finalizado\n[inserirEmpresa] => Iniciado\n[existeEmpresaComNome] => Iniciado\n[existeEmpresaComNome] => Existe empresa? False\n[existeEmpresaComNome] => Finalizado\n[buscaAvaliacaoEmpresaNoGoogle] => Iniciado\n[buscaAvaliacaoEmpresaNoGoogle] => Buscar empresa no google: https://www.google.com/search?q=OFICINA%20MECANICA%20ITAUM%20CAR%20SOCORRO%2024%20HORAS%2C%20Joinville\n"
    }
   ],
   "source": [
    "buscarEmpresas('', 'joinville', 'santa-catarina')"
   ]
  }
 ],
 "metadata": {
  "kernelspec": {
   "display_name": "Python 3",
   "language": "python",
   "name": "python3"
  },
  "language_info": {
   "codemirror_mode": {
    "name": "ipython",
    "version": 3
   },
   "file_extension": ".py",
   "mimetype": "text/x-python",
   "name": "python",
   "nbconvert_exporter": "python",
   "pygments_lexer": "ipython3",
   "version": "3.7.4"
  }
 },
 "nbformat": 4,
 "nbformat_minor": 2
}
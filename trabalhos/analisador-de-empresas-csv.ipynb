{
 "cells": [
  {
   "cell_type": "markdown",
   "metadata": {},
   "outputs": [],
   "source": [
    "# Analisador de empresas listadas no Guia Fácil"
   ]
  },
  {
   "cell_type": "markdown",
   "metadata": {},
   "outputs": [],
   "source": [
    "Tem como objetivo extrair informações relacionadas as empresas de uma determinada região e sua classificação no Google Meu Negócio, se houver."
   ]
  },
  {
   "cell_type": "code",
   "execution_count": 40,
   "metadata": {},
   "outputs": [
    {
     "name": "stdout",
     "output_type": "stream",
     "text": "Requirement already satisfied: requests in /home/guiebitt/Workstation/Tools/anaconda3/lib/python3.7/site-packages (2.22.0)\nRequirement already satisfied: chardet<3.1.0,>=3.0.2 in /home/guiebitt/Workstation/Tools/anaconda3/lib/python3.7/site-packages (from requests) (3.0.4)\nRequirement already satisfied: idna<2.9,>=2.5 in /home/guiebitt/Workstation/Tools/anaconda3/lib/python3.7/site-packages (from requests) (2.8)\nRequirement already satisfied: certifi>=2017.4.17 in /home/guiebitt/Workstation/Tools/anaconda3/lib/python3.7/site-packages (from requests) (2019.9.11)\nRequirement already satisfied: urllib3!=1.25.0,!=1.25.1,<1.26,>=1.21.1 in /home/guiebitt/Workstation/Tools/anaconda3/lib/python3.7/site-packages (from requests) (1.24.2)\n"
    }
   ],
   "source": [
    "!pip install requests"
   ]
  },
  {
   "cell_type": "code",
   "execution_count": 41,
   "metadata": {},
   "outputs": [
    {
     "name": "stdout",
     "output_type": "stream",
     "text": "Requirement already satisfied: psycopg2-binary in /home/guiebitt/Workstation/Tools/anaconda3/lib/python3.7/site-packages (2.8.4)\n"
    }
   ],
   "source": [
    "!pip install psycopg2-binary"
   ]
  },
  {
   "cell_type": "code",
   "execution_count": 42,
   "metadata": {},
   "outputs": [
    {
     "name": "stdout",
     "output_type": "stream",
     "text": "Requirement already satisfied: selenium in /home/guiebitt/Workstation/Tools/anaconda3/lib/python3.7/site-packages (3.141.0)\nRequirement already satisfied: urllib3 in /home/guiebitt/Workstation/Tools/anaconda3/lib/python3.7/site-packages (from selenium) (1.24.2)\nRequirement already satisfied: chromedriver-binary in /home/guiebitt/Workstation/Tools/anaconda3/lib/python3.7/site-packages (79.0.3945.16.0)\n"
    }
   ],
   "source": [
    "!pip install selenium\n",
    "!pip install chromedriver-binary"
   ]
  },
  {
   "cell_type": "code",
   "execution_count": 43,
   "metadata": {},
   "outputs": [],
   "source": [
    "DEBUG = True\n",
    "\n",
    "def LOG(funcao, mensagem, pulaLinhaAntes = False, pulaLinhaDepois = False):\n",
    "    if DEBUG == True:\n",
    "        if pulaLinhaAntes:\n",
    "            print('\\n');\n",
    "        print('[{}] => {}'.format(funcao, mensagem))\n",
    "        if pulaLinhaDepois:\n",
    "            print('\\n');"
   ]
  },
  {
   "cell_type": "code",
   "execution_count": 44,
   "metadata": {},
   "outputs": [],
   "source": [
    "from urllib.request import urlopen\n",
    "from selenium import webdriver\n",
    "from selenium.webdriver.chrome.service import Service\n",
    "from selenium.webdriver.chrome.options import Options\n",
    "from selenium.webdriver.common.by import By\n",
    "import chromedriver_binary\n",
    "import json\n",
    "import psycopg2\n",
    "import uuid\n",
    "import urllib.parse\n",
    "import requests\n",
    "import re"
   ]
  },
  {
   "cell_type": "code",
   "execution_count": 45,
   "metadata": {},
   "outputs": [],
   "source": [
    "def buscaAvaliacaoEmpresaNoGoogle(nomeEmpresa):\n",
    "\n",
    "    LOG('buscaAvaliacaoEmpresaNoGoogle', 'Iniciado')\n",
    "\n",
    "    site = 'https://www.google.com/search?q={}'.format(urllib.parse.quote(nomeEmpresa))\n",
    "\n",
    "    LOG('buscaAvaliacaoEmpresaNoGoogle', 'Buscar empresa no google: {}'.format(site))\n",
    "\n",
    "    avaliacao = ''\n",
    "    try:\n",
    "        options = Options()\n",
    "        options.add_argument(\"--headless\")\n",
    "        options.add_argument('--no-sandbox')\n",
    "        options.add_argument('--disable-gpu')\n",
    "        options.add_argument('start-maximized')  \n",
    "        options.add_argument('disable-infobars')\n",
    "        options.add_argument(\"--disable-extensions\")\n",
    "        service = Service('/home/guiebitt/Workstation/Workspaces/vscode-workspace/cdcoletadadosiot/trabalhos/chromedriver')\n",
    "        service.start()\n",
    "        driver = webdriver.Remote(service.service_url, options = options)\n",
    "        driver.get(site)\n",
    "        element = driver.find_element(By.CSS_SELECTOR, \".Aq14fc\")\n",
    "        avaliacao = element.text\n",
    "        driver.quit()\n",
    "    except:\n",
    "        avaliacao = ''\n",
    "        LOG('buscaAvaliacaoEmpresaNoGoogle', 'Erro ao buscar avaliação')\n",
    "\n",
    "    LOG('buscaAvaliacaoEmpresaNoGoogle', 'Finalizado')\n",
    "\n",
    "    return avaliacao"
   ]
  },
  {
   "cell_type": "code",
   "execution_count": 46,
   "metadata": {},
   "outputs": [],
   "source": [
    "def inserirTelefonesEmpresa(empresaId, telefones):\n",
    "    \n",
    "    LOG('inserirTelefonesEmpresa', 'Iniciado')\n",
    "\n",
    "    arquivoTelefones = open('empresas-telefones_joinville-sc.csv', 'a+')\n",
    "\n",
    "    for telefone in telefones:\n",
    "        \n",
    "        idTelefone = uuid.uuid4()\n",
    "        \n",
    "        LOG('inserirTelefonesEmpresa', 'UUID do registro: {}'.format(str(idTelefone)))\n",
    "        \n",
    "        whatsapp = False\n",
    "        if telefone['whatsapp'] == 'true':\n",
    "            whatsapp = True\n",
    "        \n",
    "        telefone0800 = False\n",
    "        if telefone['telefone0800'] == 'true':\n",
    "            telefone0800 = True\n",
    "\n",
    "        arquivoTelefones.write(\"%s;%s;%s;%s;%s;%s;%s\\n\" % (str(idTelefone), str(empresaId), str(telefone['ddd']), str(telefone['telefone']), str(telefone['telefoneCompleto']), str(whatsapp), str(telefone0800)))\n",
    "\n",
    "    arquivoTelefones.close()\n",
    "\n",
    "    LOG('inserirTelefonesEmpresa', 'Finalizado')\n",
    "\n",
    "    return"
   ]
  },
  {
   "cell_type": "code",
   "execution_count": 47,
   "metadata": {},
   "outputs": [],
   "source": [
    "def inserirEnderecosEmpresa(empresaId, enderecos):\n",
    "\n",
    "    LOG('inserirEnderecosEmpresa', 'Iniciado')\n",
    "\n",
    "    arquivoEnderecos = open('empresas-enderecos_joinville-sc.csv', 'a+')\n",
    "\n",
    "    for endereco in enderecos:\n",
    "        \n",
    "        idEndereco = uuid.uuid4()\n",
    "        \n",
    "        LOG('inserirEnderecosEmpresa', 'UUID do registro: {}'.format(str(idEndereco)))\n",
    "\n",
    "        arquivoEnderecos.write(\"%s;%s;%s\\n\" % (str(idEndereco), str(empresaId), str(endereco)))\n",
    "\n",
    "    arquivoEnderecos.close()\n",
    "\n",
    "    LOG('inserirEnderecosEmpresa', 'Finalizado')\n",
    "\n",
    "    return"
   ]
  },
  {
   "cell_type": "code",
   "execution_count": 48,
   "metadata": {},
   "outputs": [],
   "source": [
    "def inserirEmpresa(empresa):\n",
    "\n",
    "    LOG('inserirEmpresa', 'Iniciado')\n",
    "\n",
    "    pessoaJuridica = empresa['pessoaJuridica']\n",
    "    if pessoaJuridica == False:\n",
    "        LOG('inserirEmpresa', 'Pessoa fisica: {} nao inserida'.format(empresa['nome']))\n",
    "        LOG('inserirEmpresa', 'Finalizado')\n",
    "        return\n",
    "\n",
    "    avaliacao = buscaAvaliacaoEmpresaNoGoogle('{}, {}'.format(empresa['nome'], empresa['cidade']))\n",
    "\n",
    "    idEmpresa = uuid.uuid4()\n",
    "        \n",
    "    LOG('inserirEmpresa', 'UUID do registro: {}'.format(str(idEmpresa)))\n",
    "    LOG('inserirEmpresa', 'Avaliação: {}'.format(avaliacao))\n",
    "    \n",
    "    arquivo = open('empresas_joinville-sc.csv', 'a+')\n",
    "    arquivo.write(\"%s;%s;%s;%s;%s;%s;%s;%s;%s;%s;%s\\n\" % (str(idEmpresa), str(empresa['nome']), str(empresa['atividade']), str(empresa['emailCliente']), str(empresa['cep']), str(empresa['cidade']), str(empresa['estado']), str(empresa['bairro']), str(empresa['uf']), str(pessoaJuridica), str(avaliacao)))\n",
    "    arquivo.close()\n",
    "\n",
    "    inserirTelefonesEmpresa(idEmpresa, empresa['telefones'])\n",
    "    inserirEnderecosEmpresa(idEmpresa, empresa['enderecos'])\n",
    "\n",
    "    LOG('inserirEmpresa', 'Registro inserido: {}'.format(empresa['nome']))\n",
    "\n",
    "    LOG('inserirEmpresa', 'Finalizado')\n",
    "\n",
    "    return"
   ]
  },
  {
   "cell_type": "code",
   "execution_count": 49,
   "metadata": {},
   "outputs": [],
   "source": [
    "def inserirEmpresas(empresas):\n",
    "\n",
    "    LOG('inserirEmpresas', 'Iniciado')\n",
    "\n",
    "    for empresa in empresas:\n",
    "        inserirEmpresa(empresa)\n",
    "\n",
    "    LOG('inserirEmpresas', 'Finalizado')\n",
    "\n",
    "    return"
   ]
  },
  {
   "cell_type": "code",
   "execution_count": 50,
   "metadata": {},
   "outputs": [],
   "source": [
    "def buscarEmpresasDaPagina(categoria, cidade, estado, pagina):\n",
    "\n",
    "    LOG('buscarEmpresasDaPagina', 'Iniciado')\n",
    "\n",
    "    site = 'https://guiafacil.com/buscaAjax.php?busca={}&cidade={}&tipoBusca=segmento&estado={}&pagina={}'\n",
    "    site = site.format(categoria, cidade, estado, pagina)\n",
    "\n",
    "    LOG('buscarEmpresasDaPagina', 'Buscar: {}'.format(site))\n",
    "\n",
    "    conteudo = urlopen(site).read()\n",
    "    conteudoJson = json.loads(conteudo)\n",
    "    resultado = conteudoJson['resultados']\n",
    "\n",
    "    LOG('buscarEmpresasDaPagina', 'Quantidade de empresas da página: {}'.format(len(resultado)))\n",
    "    LOG('buscarEmpresasDaPagina', 'Finalizado')\n",
    "\n",
    "    return resultado"
   ]
  },
  {
   "cell_type": "code",
   "execution_count": 51,
   "metadata": {},
   "outputs": [],
   "source": [
    "def buscarEmpresas(categoria, cidade, estado):\n",
    "\n",
    "    LOG('buscarEmpresas', 'Iniciado')\n",
    "\n",
    "    pagina = 1\n",
    "    while(True):\n",
    "        resultadoPagina = buscarEmpresasDaPagina(categoria, cidade, estado, pagina)\n",
    "        if (len(resultadoPagina) == 0):\n",
    "            break\n",
    "\n",
    "        inserirEmpresas(resultadoPagina)\n",
    "        pagina += 1\n",
    "\n",
    "    LOG('buscarEmpresas', 'Finalizado')\n",
    "\n",
    "    return"
   ]
  },
  {
   "cell_type": "code",
   "execution_count": 52,
   "metadata": {},
   "outputs": [
    {
     "name": "stdout",
     "output_type": "stream",
     "text": "3d053eec\n[inserirEmpresa] => Avaliação: 4,3\n[inserirTelefonesEmpresa] => Iniciado\n[inserirTelefonesEmpresa] => UUID do registro: 144f67ca-c15f-4ccc-b885-63cc19fce1d3\n[inserirTelefonesEmpresa] => Finalizado\n[inserirEnderecosEmpresa] => Iniciado\n[inserirEnderecosEmpresa] => UUID do registro: fa7ff2f0-7fe3-4906-a0ea-d5ee1c979031\n[inserirEnderecosEmpresa] => Finalizado\n[inserirEmpresa] => Registro inserido: RESTAURANTE E PETISQUEIRA BOX 22\n[inserirEmpresa] => Finalizado\n[inserirEmpresa] => Iniciado\n[buscaAvaliacaoEmpresaNoGoogle] => Iniciado\n[buscaAvaliacaoEmpresaNoGoogle] => Buscar empresa no google: https://www.google.com/search?q=23%C2%BA%20GERENCIA%20REGIONAL%20DE%20SAUDE%2C%20Joinville\n[buscaAvaliacaoEmpresaNoGoogle] => Finalizado\n[inserirEmpresa] => UUID do registro: 564b3f94-3f41-4490-b900-0b9a3da170d7\n[inserirEmpresa] => Avaliação: 2,0\n[inserirTelefonesEmpresa] => Iniciado\n[inserirTelefonesEmpresa] => UUID do registro: be5b9d50-5ec6-4ecc-ab19-1a112ebce58a\n[inserirTelefonesEmpresa] => Finalizado\n[inserirEnderecosEmpresa] => Iniciado\n[inserirEnderecosEmpresa] => UUID do registro: fbc7748e-37a1-4d0c-975e-8f47ece8e0b1\n[inserirEnderecosEmpresa] => Finalizado\n[inserirEmpresa] => Registro inserido: 23º GERENCIA REGIONAL DE SAUDE\n[inserirEmpresa] => Finalizado\n[inserirEmpresas] => Finalizado\n[buscarEmpresasDaPagina] => Iniciado\n[buscarEmpresasDaPagina] => Buscar: https://guiafacil.com/buscaAjax.php?busca=&cidade=joinville&tipoBusca=segmento&estado=santa-catarina&pagina=71\n[buscarEmpresasDaPagina] => Quantidade de empresas da página: 20\n[buscarEmpresasDaPagina] => Finalizado\n[inserirEmpresas] => Iniciado\n[inserirEmpresa] => Iniciado\n[buscaAvaliacaoEmpresaNoGoogle] => Iniciado\n[buscaAvaliacaoEmpresaNoGoogle] => Buscar empresa no google: https://www.google.com/search?q=PONTO%20DE%20TAXI%20PA%2024%20HORAS%20-%20CARLOS%2C%20Joinville\n[buscaAvaliacaoEmpresaNoGoogle] => Finalizado\n[inserirEmpresa] => UUID do registro: 44457527-2926-4fde-bf20-eb38069e7a12\n[inserirEmpresa] => Avaliação: 4,2\n[inserirTelefonesEmpresa] => Iniciado\n[inserirTelefonesEmpresa] => UUID do registro: 2903d180-95ae-4bae-84b8-1b84a19b7812\n[inserirTelefonesEmpresa] => Finalizado\n[inserirEnderecosEmpresa] => Iniciado\n[inserirEnderecosEmpresa] => UUID do registro: 11f80faf-d42c-490a-b785-99e295ae6330\n[inserirEnderecosEmpresa] => Finalizado\n[inserirEmpresa] => Registro inserido: PONTO DE TAXI PA 24 HORAS - CARLOS\n[inserirEmpresa] => Finalizado\n[inserirEmpresa] => Iniciado\n[buscaAvaliacaoEmpresaNoGoogle] => Iniciado\n[buscaAvaliacaoEmpresaNoGoogle] => Buscar empresa no google: https://www.google.com/search?q=OFICINA%20MECANICA%20ITAUM%20CAR%20SOCORRO%2024%20HORAS%2C%20Joinville\n[buscaAvaliacaoEmpresaNoGoogle] => Finalizado\n[inserirEmpresa] => UUID do registro: be38fe9d-ab20-4634-969e-0451ba5cb606\n[inserirEmpresa] => Avaliação: 4,6\n[inserirTelefonesEmpresa] => Iniciado\n[inserirTelefonesEmpresa] => UUID do registro: 4ca8f841-f2c1-4cb2-aac8-c919c8dde47f\n[inserirTelefonesEmpresa] => Finalizado\n[inserirEnderecosEmpresa] => Iniciado\n[inserirEnderecosEmpresa] => UUID do registro: f51094ef-b528-431d-8040-00753be8a127\n[inserirEnderecosEmpresa] => Finalizado\n[inserirEmpresa] => Registro inserido: OFICINA MECANICA ITAUM CAR SOCORRO 24 HORAS\n[inserirEmpresa] => Finalizado\n[inserirEmpresa] => Iniciado\n[buscaAvaliacaoEmpresaNoGoogle] => Iniciado\n[buscaAvaliacaoEmpresaNoGoogle] => Buscar empresa no google: https://www.google.com/search?q=TURISMO%20SUTIL%20TUR%20VANS%2024%20HORAS%2C%20Joinville\n[buscaAvaliacaoEmpresaNoGoogle] => Erro ao buscar avaliação\n[buscaAvaliacaoEmpresaNoGoogle] => Finalizado\n[inserirEmpresa] => UUID do registro: e310e9a4-13d0-403d-9ac9-37b2a69d9e96\n[inserirEmpresa] => Avaliação: \n[inserirTelefonesEmpresa] => Iniciado\n[inserirTelefonesEmpresa] => UUID do registro: f41965d2-7825-467b-a219-9df6dcc2890b\n[inserirTelefonesEmpresa] => Finalizado\n[inserirEnderecosEmpresa] => Iniciado\n[inserirEnderecosEmpresa] => UUID do registro: f87fa4ab-801a-4f19-b83d-8dfafe48195a\n[inserirEnderecosEmpresa] => Finalizado\n[inserirEmpresa] => Registro inserido: TURISMO SUTIL TUR VANS 24 HORAS\n[inserirEmpresa] => Finalizado\n[inserirEmpresa] => Iniciado\n[buscaAvaliacaoEmpresaNoGoogle] => Iniciado\n[buscaAvaliacaoEmpresaNoGoogle] => Buscar empresa no google: https://www.google.com/search?q=PONTO%20DE%20TAXI%20FATIMA%20-%2024%20HORAS%2C%20Joinville\n[buscaAvaliacaoEmpresaNoGoogle] => Finalizado\n[inserirEmpresa] => UUID do registro: 1aaad316-cf23-4f07-a669-5f473e8f5c13\n[inserirEmpresa] => Avaliação: \n[inserirTelefonesEmpresa] => Iniciado\n[inserirTelefonesEmpresa] => UUID do registro: 32735979-0542-48fe-8a59-43e1b373ead0\n[inserirTelefonesEmpresa] => Finalizado\n[inserirEnderecosEmpresa] => Iniciado\n[inserirEnderecosEmpresa] => UUID do registro: 4153c7c5-8ea7-493d-b5fa-c3133dffe34a\n[inserirEnderecosEmpresa] => Finalizado\n[inserirEmpresa] => Registro inserido: PONTO DE TAXI FATIMA - 24 HORAS\n[inserirEmpresa] => Finalizado\n[inserirEmpresa] => Iniciado\n[buscaAvaliacaoEmpresaNoGoogle] => Iniciado\n[buscaAvaliacaoEmpresaNoGoogle] => Buscar empresa no google: https://www.google.com/search?q=LAURIANO%20CARVALHO%20SERVICOS%2024%20HORAS%2C%20Joinville\n[buscaAvaliacaoEmpresaNoGoogle] => Erro ao buscar avaliação\n[buscaAvaliacaoEmpresaNoGoogle] => Finalizado\n[inserirEmpresa] => UUID do registro: 693c140e-eb00-461e-980d-0a8b5d18e44b\n[inserirEmpresa] => Avaliação: \n[inserirTelefonesEmpresa] => Iniciado\n[inserirTelefonesEmpresa] => UUID do registro: a76cc1b9-5fee-413d-bf41-90eeb226e3ad\n[inserirTelefonesEmpresa] => UUID do registro: 32d00bf7-b5f1-46c9-a8ff-1ec44f25a931\n[inserirTelefonesEmpresa] => UUID do registro: 3fbc6f95-1ed1-4d45-b148-3495fa67bcd8\n[inserirTelefonesEmpresa] => Finalizado\n[inserirEnderecosEmpresa] => Iniciado\n[inserirEnderecosEmpresa] => UUID do registro: 8e372913-f5b2-45f3-903a-14eebda04c0a\n[inserirEnderecosEmpresa] => Finalizado\n[inserirEmpresa] => Registro inserido: LAURIANO CARVALHO SERVICOS 24 HORAS\n[inserirEmpresa] => Finalizado\n[inserirEmpresa] => Iniciado\n[buscaAvaliacaoEmpresaNoGoogle] => Iniciado\n[buscaAvaliacaoEmpresaNoGoogle] => Buscar empresa no google: https://www.google.com/search?q=AJV%20CONSTRUCOES%20E%20REPAROS%20-%2024%20HORAS%2C%20Joinville\n[buscaAvaliacaoEmpresaNoGoogle] => Erro ao buscar avaliação\n[buscaAvaliacaoEmpresaNoGoogle] => Finalizado\n[inserirEmpresa] => UUID do registro: 30f4574e-92b6-4306-8913-96e9fadfd7ca\n[inserirEmpresa] => Avaliação: \n[inserirTelefonesEmpresa] => Iniciado\n[inserirTelefonesEmpresa] => UUID do registro: d316dc97-0e43-4e83-87e2-b2f19e940cf3\n[inserirTelefonesEmpresa] => Finalizado\n[inserirEnderecosEmpresa] => Iniciado\n[inserirEnderecosEmpresa] => UUID do registro: a33772a3-7d30-4e6a-bed4-dfdd39b029a3\n[inserirEnderecosEmpresa] => Finalizado\n[inserirEmpresa] => Registro inserido: AJV CONSTRUCOES E REPAROS - 24 HORAS\n[inserirEmpresa] => Finalizado\n[inserirEmpresa] => Iniciado\n[buscaAvaliacaoEmpresaNoGoogle] => Iniciado\n[buscaAvaliacaoEmpresaNoGoogle] => Buscar empresa no google: https://www.google.com/search?q=ELETRICISTA%20RI%2024%20HORAS%2C%20Joinville\n[buscaAvaliacaoEmpresaNoGoogle] => Finalizado\n[inserirEmpresa] => UUID do registro: b33272ae-e564-4d18-94da-d887c863f8ee\n[inserirEmpresa] => Avaliação: \n[inserirTelefonesEmpresa] => Iniciado\n[inserirTelefonesEmpresa] => UUID do registro: 21792674-1c9b-42f3-a241-71e8f6984698\n[inserirTelefonesEmpresa] => UUID do registro: 4a541424-00d1-411b-bf7b-00d47e024c1c\n[inserirTelefonesEmpresa] => Finalizado\n[inserirEnderecosEmpresa] => Iniciado\n[inserirEnderecosEmpresa] => UUID do registro: d9b62b9b-b06b-4486-88a0-128608691aba\n[inserirEnderecosEmpresa] => Finalizado\n[inserirEmpresa] => Registro inserido: ELETRICISTA RI 24 HORAS\n[inserirEmpresa] => Finalizado\n[inserirEmpresa] => Iniciado\n[buscaAvaliacaoEmpresaNoGoogle] => Iniciado\n[buscaAvaliacaoEmpresaNoGoogle] => Buscar empresa no google: https://www.google.com/search?q=GS%20MOTO%20TAXI%2024%20HORAS%2C%20Joinville\n[buscaAvaliacaoEmpresaNoGoogle] => Finalizado\n[inserirEmpresa] => UUID do registro: 9f26b859-e528-4e38-a3cd-4fc13b8921a1\n[inserirEmpresa] => Avaliação: \n[inserirTelefonesEmpresa] => Iniciado\n[inserirTelefonesEmpresa] => UUID do registro: 5d7b6f52-9ba8-44a5-bf79-1f70485f6a4f\n[inserirTelefonesEmpresa] => Finalizado\n[inserirEnderecosEmpresa] => Iniciado\n[inserirEnderecosEmpresa] => UUID do registro: 7674d346-b3d3-4fad-be7f-92ffa8674314\n[inserirEnderecosEmpresa] => Finalizado\n[inserirEmpresa] => Registro inserido: GS MOTO TAXI 24 HORAS\n[inserirEmpresa] => Finalizado\n[inserirEmpresa] => Iniciado\n[buscaAvaliacaoEmpresaNoGoogle] => Iniciado\n[buscaAvaliacaoEmpresaNoGoogle] => Buscar empresa no google: https://www.google.com/search?q=AHR%20TRANSPORTES%2024%20HORAS%2C%20Joinville\n[buscaAvaliacaoEmpresaNoGoogle] => Finalizado\n[inserirEmpresa] => UUID do registro: 9d31bff4-197d-4bfe-b80d-a939d8fd1d37\n[inserirEmpresa] => Avaliação: 5,0\n[inserirTelefonesEmpresa] => Iniciado\n[inserirTelefonesEmpresa] => UUID do registro: 555045ab-769a-4e9d-9f63-f22b7226873a\n[inserirTelefonesEmpresa] => UUID do registro: 0fbdf16d-bf22-4360-abd2-b7dc273b8ee4\n[inserirTelefonesEmpresa] => UUID do registro: 42d5a068-b8f1-4bce-9381-dc74324a2fc0\n[inserirTelefonesEmpresa] => Finalizado\n[inserirEnderecosEmpresa] => Iniciado\n[inserirEnderecosEmpresa] => UUID do registro: 4b1f7f29-b491-468f-9efb-3f33333fd6fb\n[inserirEnderecosEmpresa] => Finalizado\n[inserirEmpresa] => Registro inserido: AHR TRANSPORTES 24 HORAS\n[inserirEmpresa] => Finalizado\n[inserirEmpresa] => Iniciado\n[buscaAvaliacaoEmpresaNoGoogle] => Iniciado\n[buscaAvaliacaoEmpresaNoGoogle] => Buscar empresa no google: https://www.google.com/search?q=BORRACHARIA%20TIP%20TOP%2024H%2C%20Joinville\n[buscaAvaliacaoEmpresaNoGoogle] => Finalizado\n[inserirEmpresa] => UUID do registro: 994f953e-a5b6-4bdf-9b70-d869cd911379\n[inserirEmpresa] => Avaliação: \n[inserirTelefonesEmpresa] => Iniciado\n[inserirTelefonesEmpresa] => UUID do registro: d7aa254c-989c-484b-b68f-8a671f1f242b\n[inserirTelefonesEmpresa] => Finalizado\n[inserirEnderecosEmpresa] => Iniciado\n[inserirEnderecosEmpresa] => UUID do registro: 29698c14-d86a-4ec4-882f-cd9f02a356d8\n[inserirEnderecosEmpresa] => Finalizado\n[inserirEmpresa] => Registro inserido: BORRACHARIA TIP TOP 24H\n[inserirEmpresa] => Finalizado\n[inserirEmpresa] => Iniciado\n[buscaAvaliacaoEmpresaNoGoogle] => Iniciado\n[buscaAvaliacaoEmpresaNoGoogle] => Buscar empresa no google: https://www.google.com/search?q=RAMPA%20CAR%20GUINCHO%2024%20HORAS%2C%20Joinville\n[buscaAvaliacaoEmpresaNoGoogle] => Finalizado\n[inserirEmpresa] => UUID do registro: 942c5bf0-8b59-4011-abc9-bbe15694cb53\n[inserirEmpresa] => Avaliação: 5,0\n[inserirTelefonesEmpresa] => Iniciado\n[inserirTelefonesEmpresa] => UUID do registro: c2b68322-da34-4b08-bb83-7982ffcf9048\n[inserirTelefonesEmpresa] => UUID do registro: 798f984c-2deb-4ded-af85-88fc54d8e2ab\n[inserirTelefonesEmpresa] => UUID do registro: 0bfbe0e0-8669-48b3-a04c-ec4b3e71f341\n[inserirTelefonesEmpresa] => Finalizado\n[inserirEnderecosEmpresa] => Iniciado\n[inserirEnderecosEmpresa] => UUID do registro: 0f06111f-8508-4d1b-b1bc-56e607c95206\n[inserirEnderecosEmpresa] => Finalizado\n[inserirEmpresa] => Registro inserido: RAMPA CAR GUINCHO 24 HORAS\n[inserirEmpresa] => Finalizado\n[inserirEmpresa] => Iniciado\n[buscaAvaliacaoEmpresaNoGoogle] => Iniciado\n[buscaAvaliacaoEmpresaNoGoogle] => Buscar empresa no google: https://www.google.com/search?q=GUINCHO%20JOINVILLE%2024%20HORAS%2C%20Joinville\n[buscaAvaliacaoEmpresaNoGoogle] => Finalizado\n[inserirEmpresa] => UUID do registro: c322cad1-2b6f-43b3-822b-93152fdcc51f\n[inserirEmpresa] => Avaliação: \n[inserirTelefonesEmpresa] => Iniciado\n[inserirTelefonesEmpresa] => UUID do registro: 8a38ecdb-88d6-41e0-b418-cc6f051471ea\n[inserirTelefonesEmpresa] => Finalizado\n[inserirEnderecosEmpresa] => Iniciado\n[inserirEnderecosEmpresa] => UUID do registro: 3261ddd1-23b2-4da6-834c-5fc5eff70624\n[inserirEnderecosEmpresa] => Finalizado\n[inserirEmpresa] => Registro inserido: GUINCHO JOINVILLE 24 HORAS\n[inserirEmpresa] => Finalizado\n[inserirEmpresa] => Iniciado\n[buscaAvaliacaoEmpresaNoGoogle] => Iniciado\n[buscaAvaliacaoEmpresaNoGoogle] => Buscar empresa no google: https://www.google.com/search?q=MOTO%20TAXI%20GALVAO%2024%20HORAS%2C%20Joinville\n[buscaAvaliacaoEmpresaNoGoogle] => Finalizado\n[inserirEmpresa] => UUID do registro: 7c7a3d37-1ce5-40f7-bbd1-2ed5d0255a1f\n[inserirEmpresa] => Avaliação: \n[inserirTelefonesEmpresa] => Iniciado\n[inserirTelefonesEmpresa] => UUID do registro: f12a6532-498b-428f-96ac-44583faf67ac\n[inserirTelefonesEmpresa] => Finalizado\n[inserirEnderecosEmpresa] => Iniciado\n[inserirEnderecosEmpresa] => UUID do registro: d07e35c6-f87e-46da-b6b6-a9a378ccf86b\n[inserirEnderecosEmpresa] => Finalizado\n[inserirEmpresa] => Registro inserido: MOTO TAXI GALVAO 24 HORAS\n[inserirEmpresa] => Finalizado\n[inserirEmpresa] => Iniciado\n[buscaAvaliacaoEmpresaNoGoogle] => Iniciado\n[buscaAvaliacaoEmpresaNoGoogle] => Buscar empresa no google: https://www.google.com/search?q=TONY%20CAR%20AUTO%20SOCORRO%2024%20HORAS%2C%20Joinville\n[buscaAvaliacaoEmpresaNoGoogle] => Erro ao buscar avaliação\n[buscaAvaliacaoEmpresaNoGoogle] => Finalizado\n[inserirEmpresa] => UUID do registro: c6cc0d14-f1e7-4071-bdd3-7079ef7b990b\n[inserirEmpresa] => Avaliação: \n[inserirTelefonesEmpresa] => Iniciado\n[inserirTelefonesEmpresa] => UUID do registro: 166bbb36-9e47-4319-b851-d91eeeba4f00\n[inserirTelefonesEmpresa] => Finalizado\n[inserirEnderecosEmpresa] => Iniciado\n[inserirEnderecosEmpresa] => UUID do registro: d8ef2273-f65a-450d-9b7f-94a8f7bb8067\n[inserirEnderecosEmpresa] => Finalizado\n[inserirEmpresa] => Registro inserido: TONY CAR AUTO SOCORRO 24 HORAS\n[inserirEmpresa] => Finalizado\n[inserirEmpresa] => Iniciado\n[buscaAvaliacaoEmpresaNoGoogle] => Iniciado\n[buscaAvaliacaoEmpresaNoGoogle] => Buscar empresa no google: https://www.google.com/search?q=GUINCHO%20JOINVILLE%2024%20HORAS%2C%20Joinville\n[buscaAvaliacaoEmpresaNoGoogle] => Finalizado\n[inserirEmpresa] => UUID do registro: 6194c387-57c0-4ea8-9c3b-b861b62de775\n[inserirEmpresa] => Avaliação: \n[inserirTelefonesEmpresa] => Iniciado\n[inserirTelefonesEmpresa] => UUID do registro: 7c84656d-5a2b-455d-8c56-48c74feb8a37\n[inserirTelefonesEmpresa] => Finalizado\n[inserirEnderecosEmpresa] => Iniciado\n[inserirEnderecosEmpresa] => UUID do registro: c189fda1-2037-484f-b55f-c97cf0c76e53\n[inserirEnderecosEmpresa] => Finalizado\n[inserirEmpresa] => Registro inserido: GUINCHO JOINVILLE 24 HORAS\n[inserirEmpresa] => Finalizado\n[inserirEmpresa] => Iniciado\n[buscaAvaliacaoEmpresaNoGoogle] => Iniciado\n[buscaAvaliacaoEmpresaNoGoogle] => Buscar empresa no google: https://www.google.com/search?q=RECANTO%203%20NASCENTE%2C%20Joinville\n[buscaAvaliacaoEmpresaNoGoogle] => Finalizado\n[inserirEmpresa] => UUID do registro: 7c6a3472-ca62-4971-b89d-7d05ad508f15\n[inserirEmpresa] => Avaliação: 4,2\n[inserirTelefonesEmpresa] => Iniciado\n[inserirTelefonesEmpresa] => UUID do registro: 171bb2ab-1a67-48d1-983a-f4c1fdeea54d\n[inserirTelefonesEmpresa] => UUID do registro: 8127b4af-5b7e-4172-bb69-a7a0bfe3fe0d\n[inserirTelefonesEmpresa] => Finalizado\n[inserirEnderecosEmpresa] => Iniciado\n[inserirEnderecosEmpresa] => UUID do registro: d0ae9ebb-b701-4339-95a3-32c12038e570\n[inserirEnderecosEmpresa] => Finalizado\n[inserirEmpresa] => Registro inserido: RECANTO 3 NASCENTE\n[inserirEmpresa] => Finalizado\n[inserirEmpresa] => Iniciado\n[buscaAvaliacaoEmpresaNoGoogle] => Iniciado\n[buscaAvaliacaoEmpresaNoGoogle] => Buscar empresa no google: https://www.google.com/search?q=D3%20BRASIL%20AGENCIA%20WEB%2C%20Joinville\n[buscaAvaliacaoEmpresaNoGoogle] => Finalizado\n[inserirEmpresa] => UUID do registro: d394b75e-89d3-42a1-80b5-1a113f1d678a\n[inserirEmpresa] => Avaliação: 5,0\n[inserirTelefonesEmpresa] => Iniciado\n[inserirTelefonesEmpresa] => UUID do registro: fe52c7cb-86bf-4fbd-aacf-83612bbef994\n[inserirTelefonesEmpresa] => Finalizado\n[inserirEnderecosEmpresa] => Iniciado\n[inserirEnderecosEmpresa] => UUID do registro: 5a88458b-4322-4a9e-b9f6-e8cd0f9b608e\n[inserirEnderecosEmpresa] => Finalizado\n[inserirEmpresa] => Registro inserido: D3 BRASIL AGENCIA WEB\n[inserirEmpresa] => Finalizado\n[inserirEmpresa] => Iniciado\n[buscaAvaliacaoEmpresaNoGoogle] => Iniciado\n[buscaAvaliacaoEmpresaNoGoogle] => Buscar empresa no google: https://www.google.com/search?q=PRE%20MOLDADOS%203L%2C%20Joinville\n[buscaAvaliacaoEmpresaNoGoogle] => Finalizado\n[inserirEmpresa] => UUID do registro: b9349777-2f46-4e40-85ff-23967f35834d\n[inserirEmpresa] => Avaliação: \n[inserirTelefonesEmpresa] => Iniciado\n[inserirTelefonesEmpresa] => UUID do registro: 7d8198fc-fed4-4894-b2e0-a717f3825229\n[inserirTelefonesEmpresa] => Finalizado\n[inserirEnderecosEmpresa] => Iniciado\n[inserirEnderecosEmpresa] => UUID do registro: e618963d-49a6-415b-9c7e-1a0aa71026b0\n[inserirEnderecosEmpresa] => Finalizado\n[inserirEmpresa] => Registro inserido: PRE MOLDADOS 3L\n[inserirEmpresa] => Finalizado\n[inserirEmpresa] => Iniciado\n[buscaAvaliacaoEmpresaNoGoogle] => Iniciado\n[buscaAvaliacaoEmpresaNoGoogle] => Buscar empresa no google: https://www.google.com/search?q=EMPREITEIRA-EMPREITEIRO%20DE%20MAO-DE-OBRA%20MUNDIAL%203J%2C%20Joinville\n[buscaAvaliacaoEmpresaNoGoogle] => Erro ao buscar avaliação\n[buscaAvaliacaoEmpresaNoGoogle] => Finalizado\n[inserirEmpresa] => UUID do registro: 8eaaf4d4-d52a-4fe1-be06-1c962a6af0fb\n[inserirEmpresa] => Avaliação: \n[inserirTelefonesEmpresa] => Iniciado\n[inserirTelefonesEmpresa] => UUID do registro: 83315816-6868-4172-a890-32915cd4b953\n[inserirTelefonesEmpresa] => UUID do registro: 47f2b55e-003d-409c-a056-41af1bf3bae2\n[inserirTelefonesEmpresa] => Finalizado\n[inserirEnderecosEmpresa] => Iniciado\n[inserirEnderecosEmpresa] => UUID do registro: 1b1b3421-324b-440d-827a-3cf32506b0fc\n[inserirEnderecosEmpresa] => Finalizado\n[inserirEmpresa] => Registro inserido: EMPREITEIRA-EMPREITEIRO DE MAO-DE-OBRA MUNDIAL 3J\n[inserirEmpresa] => Finalizado\n[inserirEmpresa] => Iniciado\n[buscaAvaliacaoEmpresaNoGoogle] => Iniciado\n[buscaAvaliacaoEmpresaNoGoogle] => Buscar empresa no google: https://www.google.com/search?q=3D%20ARTES%20E%20ACRILICOS%2C%20Joinville\n[buscaAvaliacaoEmpresaNoGoogle] => Finalizado\n[inserirEmpresa] => UUID do registro: df786eee-743a-4829-ad74-9ffe6550a18f\n[inserirEmpresa] => Avaliação: 4,8\n[inserirTelefonesEmpresa] => Iniciado\n[inserirTelefonesEmpresa] => UUID do registro: 844580ef-7659-4db9-9eb6-2f6803215b0a\n[inserirTelefonesEmpresa] => Finalizado\n[inserirEnderecosEmpresa] => Iniciado\n[inserirEnderecosEmpresa] => UUID do registro: fd163614-a908-4c6a-9f4c-7e6d032425ad\n[inserirEnderecosEmpresa] => Finalizado\n[inserirEmpresa] => Registro inserido: 3D ARTES E ACRILICOS\n[inserirEmpresa] => Finalizado\n[inserirEmpresas] => Finalizado\n[buscarEmpresasDaPagina] => Iniciado\n[buscarEmpresasDaPagina] => Buscar: https://guiafacil.com/buscaAjax.php?busca=&cidade=joinville&tipoBusca=segmento&estado=santa-catarina&pagina=72\n[buscarEmpresasDaPagina] => Quantidade de empresas da página: 20\n[buscarEmpresasDaPagina] => Finalizado\n[inserirEmpresas] => Iniciado\n[inserirEmpresa] => Iniciado\n[buscaAvaliacaoEmpresaNoGoogle] => Iniciado\n[buscaAvaliacaoEmpresaNoGoogle] => Buscar empresa no google: https://www.google.com/search?q=REALIZA%20IMOVEIS%20-%20CRECI%203033J%2C%20Joinville\n[buscaAvaliacaoEmpresaNoGoogle] => Erro ao buscar avaliação\n[buscaAvaliacaoEmpresaNoGoogle] => Finalizado\n[inserirEmpresa] => UUID do registro: bdee4d6d-388e-4d95-86e0-7e9fc0cfb28b\n[inserirEmpresa] => Avaliação: \n[inserirTelefonesEmpresa] => Iniciado\n[inserirTelefonesEmpresa] => UUID do registro: b7e3f930-cbd1-414e-bf11-dd74124b2d13\n[inserirTelefonesEmpresa] => Finalizado\n[inserirEnderecosEmpresa] => Iniciado\n[inserirEnderecosEmpresa] => UUID do registro: 2e7ac10a-2827-4543-8952-4bf6ba27dc8a\n[inserirEnderecosEmpresa] => Finalizado\n[inserirEmpresa] => Registro inserido: REALIZA IMOVEIS - CRECI 3033J\n[inserirEmpresa] => Finalizado\n[inserirEmpresa] => Iniciado\n[buscaAvaliacaoEmpresaNoGoogle] => Iniciado\n[buscaAvaliacaoEmpresaNoGoogle] => Buscar empresa no google: https://www.google.com/search?q=ESTOFARIA%20PACHER%20-%2031%20ANOS%2C%20Joinville\n"
    }
   ],
   "source": [
    "buscarEmpresas('', 'joinville', 'santa-catarina')"
   ]
  },
  {
   "cell_type": "code",
   "metadata": {},
   "outputs": [],
   "source": [
    "72"
   ]
  }
 ],
 "metadata": {
  "kernelspec": {
   "display_name": "Python 3",
   "language": "python",
   "name": "python3"
  },
  "language_info": {
   "codemirror_mode": {
    "name": "ipython",
    "version": 3
   },
   "file_extension": ".py",
   "mimetype": "text/x-python",
   "name": "python",
   "nbconvert_exporter": "python",
   "pygments_lexer": "ipython3",
   "version": "3.7.4"
  }
 },
 "nbformat": 4,
 "nbformat_minor": 2
}